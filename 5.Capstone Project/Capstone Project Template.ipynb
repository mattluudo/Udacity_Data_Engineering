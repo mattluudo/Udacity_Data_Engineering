{
 "cells": [
  {
   "cell_type": "markdown",
   "metadata": {
    "editable": true
   },
   "source": [
    "# Project Title\n",
    "### Data Engineering Capstone Project\n",
    "\n",
    "#### Project Summary\n",
    "Pull AT&T's cell site throughput and number of user data from Vertica Database. Calculate weighted 5th percentile throughput values aggregated by Nation, Market, Submarket, and Vendor. Push new KPI into Oracle database to visual on PowerBI front end. This new KPI will be used to measure customer experience.\n",
    "\n",
    "The project follows the follow steps:\n",
    "* Step 1: Scope the Project and Gather Data\n",
    "* Step 2: Explore and Assess the Data\n",
    "* Step 3: Define the Data Model\n",
    "* Step 4: Run ETL to Model the Data\n",
    "* Step 5: Complete Project Write Up"
   ]
  },
  {
   "cell_type": "code",
   "execution_count": 1,
   "metadata": {
    "editable": true
   },
   "outputs": [],
   "source": [
    "# Do all imports and installs here\n",
    "import pandas as pd"
   ]
  },
  {
   "cell_type": "markdown",
   "metadata": {
    "editable": true
   },
   "source": [
    "### Step 1: Scope the Project and Gather Data\n",
    "\n",
    "#### Scope \n",
    "Explain what you plan to do in the project in more detail. What data do you use? What is your end solution look like? What tools did you use? etc>\n",
    "\n",
    "The raw data consist of daily cell site data nationwide (>1million) with number of users and throughput KPIs. I wrote a new Airflow Vertica operater to pull the data and save it to a flat file. Then, an Airflow Python operater computes weighted percentile throughput values for each vendor, market, and submarket. These new KPIs are then pushed into an Oracle database using an Airflow Oracle operator. This data will be used by other team to visualize on the frontend using PowerBI\n",
    "\n",
    "#### Describe and Gather Data \n",
    "Describe the data sets you're using. Where did it come from? What type of information is included? \n",
    "\n",
    "The raw data consist of daily cell site data nationwide (>10million) with number of users and throughput KPIs. Two queries are ran for each of the vendor data."
   ]
  },
  {
   "cell_type": "code",
   "execution_count": 15,
   "metadata": {
    "editable": true
   },
   "outputs": [],
   "source": [
    "# Read in the data here"
   ]
  },
  {
   "cell_type": "raw",
   "metadata": {
    "editable": true
   },
   "source": [
    "# Source #1 SQL statement for Ericsson vendor\n",
    "# /Airflow/plugins/sql/5th_ptile_qci_eri.sql\n",
    "\n",
    "WITH\n",
    "  --Table to lookup market and submarket of each cell\n",
    "  --Note: Add and remove markets/submarket as needed to speed up query\n",
    "  --DON'T CHANGE DATE FOR THIS TABLE\n",
    "  market AS (\n",
    "    SELECT DISTINCT\n",
    "      MARKETCLUSTER AS MARKET,\n",
    "      MARKET AS SUBMARKET,\n",
    "      EUTRANCELL_NAME\n",
    "\n",
    "    FROM PDW_MOBILITYSCORECARD_VIEWS.LTE_RTB_SCORECARD_DY\n",
    "    WHERE \n",
    "      EUCELLVENDORLIST = 'E' AND MARKET <> '*' AND MARKET <> '*COMMERCIAL' \n",
    "\t  AND MARKET <> '-' AND MARKET NOT LIKE '%-PART' AND EUTRANCELL_NAME <> '*' \n",
    "\t  AND DATETIMELOCAL >= '2020-02-01'  \n",
    "  )\n",
    "\n",
    "SELECT \n",
    "  TRUNC(cell.DATETIME) AS DATETIME,\n",
    "  market.MARKET,\n",
    "  market.SUBMARKET,\n",
    "  'E' AS VENDOR,\n",
    "  market.EUTRANCELL_NAME AS EUTRANCELL, \n",
    "  \n",
    "  --RRC CONNECTION \n",
    "  PMRRCCONNLEVSUM AS AVG_RRC_CONN_NUM,\n",
    "  NULLIFZERO(PMRRCCONNLEVSAMP) AS AVG_RRC_CONN_DEN,\n",
    "  PMRRCCONNLEVSUM/NULLIFZERO(PMRRCCONNLEVSAMP) AS AVG_RRC_CONN,\n",
    "  \n",
    "  --TOTAL TP\n",
    "  PMPDCPVOLDLDRB - pmPdcpVolDlDrbLastTTI AS DL_DRB_TP_NUM,\n",
    "  NULLIFZERO(pmUeThpTimeDl)/1000 AS DL_DRB_TP_DEN,\n",
    "  1000*(PMPDCPVOLDLDRB - pmPdcpVolDlDrbLastTTI)/NULLIFZERO(pmUeThpTimeDl) AS DL_DRB_TP,\n",
    "  \n",
    "  --QCI TP\n",
    "  cell4.PMPDCPVOLDLDRBQCI6 - cell4.PMPDCPVOLDLDRBLASTTTIQCI6 AS QCI6_DL_TPUT_NUM,\n",
    "  cell4.PMPDCPVOLDLDRBQCI7 - cell4.PMPDCPVOLDLDRBLASTTTIQCI7 AS QCI7_DL_TPUT_NUM,\n",
    "  cell4.PMPDCPVOLDLDRBQCI8 - cell4.PMPDCPVOLDLDRBLASTTTIQCI8 AS QCI8_DL_TPUT_NUM,\n",
    "  cell4.PMPDCPVOLDLDRBQCI9 - cell4.PMPDCPVOLDLDRBLASTTTIQCI9 AS QCI9_DL_TPUT_NUM,\n",
    "  \n",
    "  cell4.PMDRBTHPTIMEDLQCI6/1000 AS QCI6_DL_TPUT_DEN,\n",
    "  cell4.PMDRBTHPTIMEDLQCI7/1000 AS QCI7_DL_TPUT_DEN,\n",
    "  cell4.PMDRBTHPTIMEDLQCI8/1000 AS QCI8_DL_TPUT_DEN,\n",
    "  cell4.PMDRBTHPTIMEDLQCI9/1000 AS QCI9_DL_TPUT_DEN,\n",
    "  \n",
    "  1000*(cell4.PMPDCPVOLDLDRBQCI6 - cell4.PMPDCPVOLDLDRBLASTTTIQCI6)/NULLIFZERO(cell4.PMDRBTHPTIMEDLQCI6) AS DL_DRB_QCI6_TP,\n",
    "  1000*(cell4.PMPDCPVOLDLDRBQCI7 - cell4.PMPDCPVOLDLDRBLASTTTIQCI7)/NULLIFZERO(cell4.PMDRBTHPTIMEDLQCI7) AS DL_DRB_QCI7_TP,\n",
    "  1000*(cell4.PMPDCPVOLDLDRBQCI8 - cell4.PMPDCPVOLDLDRBLASTTTIQCI8)/NULLIFZERO(cell4.PMDRBTHPTIMEDLQCI8) AS DL_DRB_QCI8_TP,\n",
    "  1000*(cell4.PMPDCPVOLDLDRBQCI9 - cell4.PMPDCPVOLDLDRBLASTTTIQCI9)/NULLIFZERO(cell4.PMDRBTHPTIMEDLQCI9) AS DL_DRB_QCI9_TP,\n",
    "  \n",
    "  --ERAB CONNECTIONS\n",
    "  ZEROIFNULL(cell3.PMERABESTABSUCCINITQCI6) + ZEROIFNULL(cell3.PMERABESTABSUCCADDEDQCI6) AS QCI6_ERAB_SETUP_SUCC,\n",
    "  ZEROIFNULL(cell3.PMERABESTABSUCCINITQCI7) + ZEROIFNULL(cell3.PMERABESTABSUCCADDEDQCI7) AS QCI7_ERAB_SETUP_SUCC,\n",
    "  ZEROIFNULL(cell3.PMERABESTABSUCCINITQCI8) + ZEROIFNULL(cell3.PMERABESTABSUCCADDEDQCI8) AS QCI8_ERAB_SETUP_SUCC,\n",
    "  ZEROIFNULL(cell3.PMERABESTABSUCCINITQCI9) + ZEROIFNULL(cell3.PMERABESTABSUCCADDEDQCI9) AS QCI9_ERAB_SETUP_SUCC\n",
    "  \n",
    "FROM \n",
    "  PDW_ERIEUTRAN_VIEWS.V_RBS_EUTRANCELLFDD_DY cell,\n",
    "  PDW_ERIEUTRAN_VIEWS.V_RBS_EUTRANCELLFDD3_DY cell3,\n",
    "  PDW_ERIEUTRAN_VIEWS.V_RBS_EUTRANCELLFDD4_DY cell4,\n",
    "  market\n",
    "  \n",
    "WHERE \n",
    "  cell.DATETIME = cell3.DATETIME AND\n",
    "  cell.ENODEB = cell3.ENODEB AND\n",
    "  cell.EUTRANCELLFDD = cell3.EUTRANCELLFDD AND\n",
    "  \n",
    "  cell.DATETIME = cell4.DATETIME AND\n",
    "  cell.ENODEB = cell4.ENODEB AND\n",
    "  cell.EUTRANCELLFDD = cell4.EUTRANCELLFDD AND\n",
    "  \n",
    "  cell.EUTRANCELLFDD = market.EUTRANCELL_NAME AND\n",
    "  \n",
    "  cell.DATETIME >= '{start_date}' AND cell.DATETIME < '{end_date}' AND\n",
    "  cell3.DATETIME >= '{start_date}' AND cell3.DATETIME < '{end_date}' AND\n",
    "  cell4.DATETIME >= '{start_date}' AND cell4.DATETIME < '{end_date}' AND\n",
    "  \n",
    "  PMPDCPVOLDLDRB - pmPdcpVolDlDrbLastTTI > 0 AND\n",
    "  pmUeThpTimeDl > 0\n",
    "\n",
    "ORDER BY\n",
    "  MARKET, \n",
    "  SUBMARKET, \n",
    "  DATETIME, \n",
    "  EUTRANCELL_NAME\n",
    " \n",
    "\n",
    "  \n"
   ]
  },
  {
   "cell_type": "raw",
   "metadata": {
    "editable": true
   },
   "source": [
    "# Source #2 SQL statement for Ericsson vendor\n",
    "# /Airflow/plugins/sql/5th_ptile_qci_eri.sql\n",
    "\n",
    "WITH\n",
    "  --Table to lookup market and submarket of each cell\n",
    "  --Note: Add and remove markets/submarket as needed to speed up query\n",
    "  market AS (\n",
    "    SELECT DISTINCT\n",
    "      MARKETCLUSTER AS MARKET,\n",
    "      MARKET AS SUBMARKET,\n",
    "      EUTRANCELL_NAME\n",
    "\n",
    "    FROM PDW_MOBILITYSCORECARD_VIEWS.LTE_RTB_SCORECARD_DY\n",
    "    WHERE \n",
    "      EUCELLVENDORLIST = 'N' AND MARKET <> '*' AND MARKET <> '*COMMERCIAL' \n",
    "\t  AND MARKET <> '-' AND MARKET NOT LIKE '%-PART' AND EUTRANCELL_NAME <> '*' \n",
    "\t  AND DATETIMELOCAL >= '2020-02-01' \n",
    "  )\n",
    "  \n",
    "\n",
    "\n",
    "\n",
    "SELECT\n",
    "  --EXTRACT(WEEK FROM (tput.DATETIME-1)) as 'WEEK',\n",
    "  --TRUNC(tput.DATETIME, 'HH') AS DATETIME,\n",
    "  --TRUNC(tput.DATETIME) AS DATETIME,\n",
    "  tput.DATETIME AS DATETIME,\n",
    "  market.MARKET AS MARKET,\n",
    "  market.SUBMARKET AS SUBMARKET,\n",
    "  'N' AS VENDOR,\n",
    "  market.EUTRANCELL_NAME AS EUTRANCELL,\n",
    "  \n",
    "  --RRC Connections\n",
    "  ue.SUM_RRC_CONNECTED_UE AS AVG_RRC_CONN_NUM,\n",
    "  ue.DENOM_RRC_CONNECTED_UE AS AVG_RRC_CONN_DEN,\n",
    "  ue.SUM_RRC_CONNECTED_UE/NULLIFZERO(ue.DENOM_RRC_CONNECTED_UE) AS AVG_RRC_CONN,\n",
    "  \n",
    "  --TOTAL TP\n",
    "  (ZEROIFNULL(tput.IP_TPUT_VOL_DL_QCI_6) + ZEROIFNULL(tput.IP_TPUT_VOL_DL_QCI_7) \n",
    "    + ZEROIFNULL(tput.IP_TPUT_VOL_DL_QCI_8) + ZEROIFNULL(tput.IP_TPUT_VOL_DL_QCI_9))/1000 AS DL_DRB_TP_NUM,\n",
    "  (ZEROIFNULL(tput.IP_TPUT_time_DL_QCI_6) + ZEROIFNULL(tput.IP_TPUT_time_DL_QCI_7)\n",
    "    + ZEROIFNULL(tput.IP_TPUT_time_DL_QCI_8) + ZEROIFNULL(tput.IP_TPUT_time_DL_QCI_9))/1000 AS DL_DRB_TP_DEN,\n",
    "  (ZEROIFNULL(tput.IP_TPUT_VOL_DL_QCI_6) + ZEROIFNULL(tput.IP_TPUT_VOL_DL_QCI_7) \n",
    "    + ZEROIFNULL(tput.IP_TPUT_VOL_DL_QCI_8) + ZEROIFNULL(tput.IP_TPUT_VOL_DL_QCI_9))\n",
    "    / (NULLIFZERO(ZEROIFNULL(tput.IP_TPUT_time_DL_QCI_6) + ZEROIFNULL(tput.IP_TPUT_time_DL_QCI_7)\n",
    "    + ZEROIFNULL(tput.IP_TPUT_time_DL_QCI_8) + ZEROIFNULL(tput.IP_TPUT_time_DL_QCI_9))) AS DL_DRB_TP,\n",
    "  \n",
    "  --QCI TP\n",
    "  tput.IP_TPUT_VOL_DL_QCI_6/1000 AS QCI6_DL_TPUT_NUM,\n",
    "  tput.IP_TPUT_VOL_DL_QCI_7/1000 AS QCI7_DL_TPUT_NUM,\n",
    "  tput.IP_TPUT_VOL_DL_QCI_8/1000 AS QCI8_DL_TPUT_NUM,\n",
    "  tput.IP_TPUT_VOL_DL_QCI_9/1000 AS QCI9_DL_TPUT_NUM,\n",
    "  \n",
    "  tput.IP_TPUT_time_DL_QCI_6/1000 AS QCI6_DL_TPUT_DEN,\n",
    "  tput.IP_TPUT_time_DL_QCI_7/1000 AS QCI7_DL_TPUT_DEN,\n",
    "  tput.IP_TPUT_time_DL_QCI_8/1000 AS QCI8_DL_TPUT_DEN,\n",
    "  tput.IP_TPUT_time_DL_QCI_9/1000 AS QCI9_DL_TPUT_DEN,\n",
    "  \n",
    "  tput.IP_TPUT_VOL_DL_QCI_6/NULLIFZERO(tput.IP_TPUT_time_DL_QCI_6) AS DL_DRB_QCI6_TP,\n",
    "  tput.IP_TPUT_VOL_DL_QCI_7/NULLIFZERO(tput.IP_TPUT_time_DL_QCI_7) AS DL_DRB_QCI7_TP,\n",
    "  tput.IP_TPUT_VOL_DL_QCI_8/NULLIFZERO(tput.IP_TPUT_time_DL_QCI_8) AS DL_DRB_QCI8_TP,\n",
    "  tput.IP_TPUT_VOL_DL_QCI_9/NULLIFZERO(tput.IP_TPUT_time_DL_QCI_9) AS DL_DRB_QCI9_TP,\n",
    "  \n",
    "  --ERAB CONNECTIONS\n",
    "  ZEROIFNULL(load.ERAB_INI_SETUP_SUCC_QCI6) + ZEROIFNULL(load.ERAB_ADD_SETUP_SUCC_QCI6) AS QCI6_ERAB_SETUP_SUCC,\n",
    "  ZEROIFNULL(load.ERAB_INI_SETUP_SUCC_QCI7) + ZEROIFNULL(load.ERAB_ADD_SETUP_SUCC_QCI7) AS QCI7_ERAB_SETUP_SUCC,  \n",
    "  ZEROIFNULL(load.ERAB_INI_SETUP_SUCC_QCI8) + ZEROIFNULL(load.ERAB_ADD_SETUP_SUCC_QCI8) AS QCI8_ERAB_SETUP_SUCC,\n",
    "  ZEROIFNULL(load.ERAB_INI_SETUP_SUCC_QCI9) + ZEROIFNULL(load.ERAB_ADD_SETUP_SUCC_QCI9) AS QCI9_ERAB_SETUP_SUCC\n",
    "  \n",
    "  \n",
    "FROM \n",
    "  PDW_NOKEUTRAN_VIEWS.V_LTE_CELL_THROUGHPUT_DY tput,\n",
    "  PDW_NOKEUTRAN_VIEWS.V_LTE_EPS_BEARER_DY load,\n",
    "  PDW_NOKEUTRAN_VIEWS.V_LTE_UE_QUANTITY_DY ue,\n",
    "  market\n",
    "  \n",
    "WHERE \n",
    "  tput.EUTRANCELL = market.EUTRANCELL_NAME AND\n",
    "  \n",
    "  tput.DATETIME = load.DATETIME AND\n",
    "  tput.ENODEB = load.ENODEB AND\n",
    "  tput.EUTRANCELL = load.EUTRANCELL AND\n",
    "\n",
    "  tput.DATETIME = ue.DATETIME AND\n",
    "  tput.ENODEB = ue.ENODEB AND\n",
    "  tput.EUTRANCELL = ue.EUTRANCELL AND\n",
    " \n",
    "  tput.DATETIME >= '{start_date}'  AND tput.DATETIME < '{end_date}' AND\n",
    "  load.DATETIME >= '{start_date}'  AND load.DATETIME < '{end_date}' AND\n",
    "  ue.DATETIME >= '{start_date}'  AND ue.DATETIME < '{end_date}' AND\n",
    "  \n",
    "  (ZEROIFNULL(tput.IP_TPUT_VOL_DL_QCI_6) + ZEROIFNULL(tput.IP_TPUT_VOL_DL_QCI_7) + ZEROIFNULL(tput.IP_TPUT_VOL_DL_QCI_8) + ZEROIFNULL(tput.IP_TPUT_VOL_DL_QCI_9) > 0)\n",
    "  \n",
    "\n",
    "\n",
    "ORDER BY\n",
    "  MARKET, \n",
    "  SUBMARKET, \n",
    "  DATETIME, \n",
    "  EUTRANCELL_NAME\n",
    "\n",
    "\n"
   ]
  },
  {
   "cell_type": "code",
   "execution_count": 2,
   "metadata": {
    "editable": true
   },
   "outputs": [
    {
     "data": {
      "text/html": [
       "<div>\n",
       "<style scoped>\n",
       "    .dataframe tbody tr th:only-of-type {\n",
       "        vertical-align: middle;\n",
       "    }\n",
       "\n",
       "    .dataframe tbody tr th {\n",
       "        vertical-align: top;\n",
       "    }\n",
       "\n",
       "    .dataframe thead th {\n",
       "        text-align: right;\n",
       "    }\n",
       "</style>\n",
       "<table border=\"1\" class=\"dataframe\">\n",
       "  <thead>\n",
       "    <tr style=\"text-align: right;\">\n",
       "      <th></th>\n",
       "      <th>DATETIME</th>\n",
       "      <th>MARKET</th>\n",
       "      <th>SUBMARKET</th>\n",
       "      <th>VENDOR</th>\n",
       "      <th>EUTRANCELL</th>\n",
       "      <th>AVG_RRC_CONN_NUM</th>\n",
       "      <th>AVG_RRC_CONN_DEN</th>\n",
       "      <th>AVG_RRC_CONN</th>\n",
       "      <th>DL_DRB_TP_NUM</th>\n",
       "      <th>DL_DRB_TP_DEN</th>\n",
       "      <th>...</th>\n",
       "      <th>QCI8_DL_TPUT_DEN</th>\n",
       "      <th>QCI9_DL_TPUT_DEN</th>\n",
       "      <th>DL_DRB_QCI6_TP</th>\n",
       "      <th>DL_DRB_QCI7_TP</th>\n",
       "      <th>DL_DRB_QCI8_TP</th>\n",
       "      <th>DL_DRB_QCI9_TP</th>\n",
       "      <th>QCI6_ERAB_SETUP_SUCC</th>\n",
       "      <th>QCI7_ERAB_SETUP_SUCC</th>\n",
       "      <th>QCI8_ERAB_SETUP_SUCC</th>\n",
       "      <th>QCI9_ERAB_SETUP_SUCC</th>\n",
       "    </tr>\n",
       "  </thead>\n",
       "  <tbody>\n",
       "    <tr>\n",
       "      <th>0</th>\n",
       "      <td>9/30/2020</td>\n",
       "      <td>Arizona/New Mexico</td>\n",
       "      <td>Arizona</td>\n",
       "      <td>N</td>\n",
       "      <td>AZL00001_2A_1</td>\n",
       "      <td>4412642.0</td>\n",
       "      <td>86400.0</td>\n",
       "      <td>51.072245</td>\n",
       "      <td>6.360206e+08</td>\n",
       "      <td>47316.720</td>\n",
       "      <td>...</td>\n",
       "      <td>18286.504</td>\n",
       "      <td>26331.513</td>\n",
       "      <td>19967.705810</td>\n",
       "      <td>17944.46440</td>\n",
       "      <td>13583.05348</td>\n",
       "      <td>12876.621220</td>\n",
       "      <td>328</td>\n",
       "      <td>8334</td>\n",
       "      <td>125337</td>\n",
       "      <td>74173</td>\n",
       "    </tr>\n",
       "    <tr>\n",
       "      <th>1</th>\n",
       "      <td>9/30/2020</td>\n",
       "      <td>Arizona/New Mexico</td>\n",
       "      <td>Arizona</td>\n",
       "      <td>N</td>\n",
       "      <td>AZL00001_2A_2</td>\n",
       "      <td>2076938.0</td>\n",
       "      <td>86400.0</td>\n",
       "      <td>24.038634</td>\n",
       "      <td>4.695367e+08</td>\n",
       "      <td>29041.877</td>\n",
       "      <td>...</td>\n",
       "      <td>9571.206</td>\n",
       "      <td>16912.516</td>\n",
       "      <td>24660.847970</td>\n",
       "      <td>15649.42302</td>\n",
       "      <td>15314.72823</td>\n",
       "      <td>16692.216270</td>\n",
       "      <td>301</td>\n",
       "      <td>7896</td>\n",
       "      <td>45728</td>\n",
       "      <td>58074</td>\n",
       "    </tr>\n",
       "    <tr>\n",
       "      <th>2</th>\n",
       "      <td>9/30/2020</td>\n",
       "      <td>Arizona/New Mexico</td>\n",
       "      <td>Arizona</td>\n",
       "      <td>N</td>\n",
       "      <td>AZL00001_2B_1</td>\n",
       "      <td>4484860.0</td>\n",
       "      <td>86400.0</td>\n",
       "      <td>51.908102</td>\n",
       "      <td>7.530769e+08</td>\n",
       "      <td>75357.443</td>\n",
       "      <td>...</td>\n",
       "      <td>27936.866</td>\n",
       "      <td>43743.291</td>\n",
       "      <td>6709.192382</td>\n",
       "      <td>15281.22019</td>\n",
       "      <td>10346.02089</td>\n",
       "      <td>9344.148545</td>\n",
       "      <td>532</td>\n",
       "      <td>11146</td>\n",
       "      <td>163010</td>\n",
       "      <td>105202</td>\n",
       "    </tr>\n",
       "    <tr>\n",
       "      <th>3</th>\n",
       "      <td>9/30/2020</td>\n",
       "      <td>Arizona/New Mexico</td>\n",
       "      <td>Arizona</td>\n",
       "      <td>N</td>\n",
       "      <td>AZL00001_2B_2</td>\n",
       "      <td>3157864.0</td>\n",
       "      <td>86400.0</td>\n",
       "      <td>36.549352</td>\n",
       "      <td>7.090318e+08</td>\n",
       "      <td>63232.530</td>\n",
       "      <td>...</td>\n",
       "      <td>19337.307</td>\n",
       "      <td>37233.000</td>\n",
       "      <td>6147.454488</td>\n",
       "      <td>12462.38724</td>\n",
       "      <td>11735.65095</td>\n",
       "      <td>10741.091610</td>\n",
       "      <td>252</td>\n",
       "      <td>10174</td>\n",
       "      <td>59485</td>\n",
       "      <td>76442</td>\n",
       "    </tr>\n",
       "    <tr>\n",
       "      <th>4</th>\n",
       "      <td>9/30/2020</td>\n",
       "      <td>Arizona/New Mexico</td>\n",
       "      <td>Arizona</td>\n",
       "      <td>N</td>\n",
       "      <td>AZL00001_2C_1</td>\n",
       "      <td>6332621.0</td>\n",
       "      <td>86400.0</td>\n",
       "      <td>73.294225</td>\n",
       "      <td>1.165714e+09</td>\n",
       "      <td>88547.795</td>\n",
       "      <td>...</td>\n",
       "      <td>23224.261</td>\n",
       "      <td>62315.488</td>\n",
       "      <td>10365.029550</td>\n",
       "      <td>18113.14694</td>\n",
       "      <td>13794.43928</td>\n",
       "      <td>12708.570530</td>\n",
       "      <td>365</td>\n",
       "      <td>8399</td>\n",
       "      <td>180504</td>\n",
       "      <td>154635</td>\n",
       "    </tr>\n",
       "  </tbody>\n",
       "</table>\n",
       "<p>5 rows × 27 columns</p>\n",
       "</div>"
      ],
      "text/plain": [
       "    DATETIME              MARKET SUBMARKET VENDOR     EUTRANCELL  \\\n",
       "0  9/30/2020  Arizona/New Mexico   Arizona      N  AZL00001_2A_1   \n",
       "1  9/30/2020  Arizona/New Mexico   Arizona      N  AZL00001_2A_2   \n",
       "2  9/30/2020  Arizona/New Mexico   Arizona      N  AZL00001_2B_1   \n",
       "3  9/30/2020  Arizona/New Mexico   Arizona      N  AZL00001_2B_2   \n",
       "4  9/30/2020  Arizona/New Mexico   Arizona      N  AZL00001_2C_1   \n",
       "\n",
       "   AVG_RRC_CONN_NUM  AVG_RRC_CONN_DEN  AVG_RRC_CONN  DL_DRB_TP_NUM  \\\n",
       "0         4412642.0           86400.0     51.072245   6.360206e+08   \n",
       "1         2076938.0           86400.0     24.038634   4.695367e+08   \n",
       "2         4484860.0           86400.0     51.908102   7.530769e+08   \n",
       "3         3157864.0           86400.0     36.549352   7.090318e+08   \n",
       "4         6332621.0           86400.0     73.294225   1.165714e+09   \n",
       "\n",
       "   DL_DRB_TP_DEN          ...           QCI8_DL_TPUT_DEN  QCI9_DL_TPUT_DEN  \\\n",
       "0      47316.720          ...                  18286.504         26331.513   \n",
       "1      29041.877          ...                   9571.206         16912.516   \n",
       "2      75357.443          ...                  27936.866         43743.291   \n",
       "3      63232.530          ...                  19337.307         37233.000   \n",
       "4      88547.795          ...                  23224.261         62315.488   \n",
       "\n",
       "   DL_DRB_QCI6_TP  DL_DRB_QCI7_TP  DL_DRB_QCI8_TP  DL_DRB_QCI9_TP  \\\n",
       "0    19967.705810     17944.46440     13583.05348    12876.621220   \n",
       "1    24660.847970     15649.42302     15314.72823    16692.216270   \n",
       "2     6709.192382     15281.22019     10346.02089     9344.148545   \n",
       "3     6147.454488     12462.38724     11735.65095    10741.091610   \n",
       "4    10365.029550     18113.14694     13794.43928    12708.570530   \n",
       "\n",
       "   QCI6_ERAB_SETUP_SUCC  QCI7_ERAB_SETUP_SUCC  QCI8_ERAB_SETUP_SUCC  \\\n",
       "0                   328                  8334                125337   \n",
       "1                   301                  7896                 45728   \n",
       "2                   532                 11146                163010   \n",
       "3                   252                 10174                 59485   \n",
       "4                   365                  8399                180504   \n",
       "\n",
       "   QCI9_ERAB_SETUP_SUCC  \n",
       "0                 74173  \n",
       "1                 58074  \n",
       "2                105202  \n",
       "3                 76442  \n",
       "4                154635  \n",
       "\n",
       "[5 rows x 27 columns]"
      ]
     },
     "execution_count": 2,
     "metadata": {},
     "output_type": "execute_result"
    }
   ],
   "source": [
    "# Sample set of input from both vendors concatenated \n",
    "# Real data is > 10million rows\n",
    "df = pd.read_csv('ran_raw_2020-09-30.csv')\n",
    "df.head()"
   ]
  },
  {
   "cell_type": "markdown",
   "metadata": {
    "editable": true
   },
   "source": [
    "### Step 2: Explore and Assess the Data\n",
    "#### Explore the Data \n",
    "Identify data quality issues, like missing values, duplicate data, etc.\n",
    "\n",
    "#### Cleaning Steps\n",
    "Document steps necessary to clean the data"
   ]
  },
  {
   "cell_type": "markdown",
   "metadata": {
    "editable": true
   },
   "source": [
    "# Performing cleaning tasks here\n",
    "The SQL statements provided in Airflow/plugins/sql performs all the data cleaning necessary\n",
    "\n",
    "\n"
   ]
  },
  {
   "cell_type": "markdown",
   "metadata": {
    "editable": true
   },
   "source": [
    "### Step 3: Define the Data Model\n",
    "#### 3.1 Conceptual Data Model\n",
    "Map out the conceptual data model and explain why you chose that model\n",
    "\n",
    "Flat raw files and one final table on Oracle database\n",
    "\n",
    "#### 3.2 Mapping Out Data Pipelines\n",
    "List the steps necessary to pipeline the data into the chosen data model\n",
    "\n",
    "start_operator >> vertica_to_file >> file_transform >> file_to_oracle"
   ]
  },
  {
   "cell_type": "markdown",
   "metadata": {
    "editable": true
   },
   "source": [
    "### Step 4: Run Pipelines to Model the Data \n",
    "#### 4.1 Create the data model\n",
    "Build the data pipelines to create the data model."
   ]
  },
  {
   "cell_type": "code",
   "execution_count": 10,
   "metadata": {
    "editable": true
   },
   "outputs": [],
   "source": [
    "# Run Airflow DAG\n",
    "# The initial data pull is replaced with flat input file due to private AT&T Vertica Database\n",
    "# The file is outputted out as a flat file due to private AT&T Oracle Database\n",
    "# However the custom operators and tasks are included in the Airflow directory"
   ]
  },
  {
   "cell_type": "markdown",
   "metadata": {
    "editable": true
   },
   "source": [
    "#### 4.2 Data Quality Checks\n",
    "Explain the data quality checks you'll perform to ensure the pipeline ran as expected. These could include:\n",
    " * Integrity constraints on the relational database (e.g., unique key, data type, etc.)\n",
    " * Unit tests for the scripts to ensure they are doing the right thing\n",
    " * Source/Count checks to ensure completeness\n",
    " \n",
    "Run Quality Checks"
   ]
  },
  {
   "cell_type": "code",
   "execution_count": 5,
   "metadata": {
    "editable": true
   },
   "outputs": [
    {
     "data": {
      "text/plain": [
       "True"
      ]
     },
     "execution_count": 5,
     "metadata": {},
     "output_type": "execute_result"
    }
   ],
   "source": [
    "# Check there is data\n",
    "df.shape[0] > 0"
   ]
  },
  {
   "cell_type": "code",
   "execution_count": 12,
   "metadata": {
    "editable": true
   },
   "outputs": [
    {
     "data": {
      "text/plain": [
       "True"
      ]
     },
     "execution_count": 12,
     "metadata": {},
     "output_type": "execute_result"
    }
   ],
   "source": [
    "# Check both vendors data is available\n",
    "len(df['VENDOR'].unique()) == 2"
   ]
  },
  {
   "cell_type": "markdown",
   "metadata": {
    "editable": true
   },
   "source": [
    "#### 4.3 Data dictionary \n",
    "Create a data dictionary for your data model. For each field, provide a brief description of what the data is and where it came from. You can include the data dictionary in the notebook or in a separate file."
   ]
  },
  {
   "cell_type": "code",
   "execution_count": 5,
   "metadata": {
    "editable": true
   },
   "outputs": [
    {
     "data": {
      "text/html": [
       "<div>\n",
       "<style scoped>\n",
       "    .dataframe tbody tr th:only-of-type {\n",
       "        vertical-align: middle;\n",
       "    }\n",
       "\n",
       "    .dataframe tbody tr th {\n",
       "        vertical-align: top;\n",
       "    }\n",
       "\n",
       "    .dataframe thead th {\n",
       "        text-align: right;\n",
       "    }\n",
       "</style>\n",
       "<table border=\"1\" class=\"dataframe\">\n",
       "  <thead>\n",
       "    <tr style=\"text-align: right;\">\n",
       "      <th></th>\n",
       "      <th>DATETIME</th>\n",
       "      <th>MARKET</th>\n",
       "      <th>SUBMARKET</th>\n",
       "      <th>VENDOR</th>\n",
       "      <th>QCI</th>\n",
       "      <th>KPI</th>\n",
       "      <th>Value</th>\n",
       "    </tr>\n",
       "  </thead>\n",
       "  <tbody>\n",
       "    <tr>\n",
       "      <th>0</th>\n",
       "      <td>9/27/2020</td>\n",
       "      <td>Arizona/New Mexico</td>\n",
       "      <td>Arizona</td>\n",
       "      <td>N</td>\n",
       "      <td>QCI 6+7+8+9</td>\n",
       "      <td>TRAFFIC</td>\n",
       "      <td>3.023060e+12</td>\n",
       "    </tr>\n",
       "    <tr>\n",
       "      <th>1</th>\n",
       "      <td>9/27/2020</td>\n",
       "      <td>Arizona/New Mexico</td>\n",
       "      <td>Arizona</td>\n",
       "      <td>N</td>\n",
       "      <td>QCI 6</td>\n",
       "      <td>TRAFFIC</td>\n",
       "      <td>4.344205e+10</td>\n",
       "    </tr>\n",
       "    <tr>\n",
       "      <th>2</th>\n",
       "      <td>9/27/2020</td>\n",
       "      <td>Arizona/New Mexico</td>\n",
       "      <td>Arizona</td>\n",
       "      <td>N</td>\n",
       "      <td>QCI 7</td>\n",
       "      <td>TRAFFIC</td>\n",
       "      <td>2.281500e+11</td>\n",
       "    </tr>\n",
       "    <tr>\n",
       "      <th>3</th>\n",
       "      <td>9/27/2020</td>\n",
       "      <td>Arizona/New Mexico</td>\n",
       "      <td>Arizona</td>\n",
       "      <td>N</td>\n",
       "      <td>QCI 8</td>\n",
       "      <td>TRAFFIC</td>\n",
       "      <td>1.080600e+12</td>\n",
       "    </tr>\n",
       "    <tr>\n",
       "      <th>4</th>\n",
       "      <td>9/27/2020</td>\n",
       "      <td>Arizona/New Mexico</td>\n",
       "      <td>Arizona</td>\n",
       "      <td>N</td>\n",
       "      <td>QCI 9</td>\n",
       "      <td>TRAFFIC</td>\n",
       "      <td>1.670900e+12</td>\n",
       "    </tr>\n",
       "  </tbody>\n",
       "</table>\n",
       "</div>"
      ],
      "text/plain": [
       "    DATETIME              MARKET SUBMARKET VENDOR          QCI      KPI  \\\n",
       "0  9/27/2020  Arizona/New Mexico   Arizona      N  QCI 6+7+8+9  TRAFFIC   \n",
       "1  9/27/2020  Arizona/New Mexico   Arizona      N        QCI 6  TRAFFIC   \n",
       "2  9/27/2020  Arizona/New Mexico   Arizona      N        QCI 7  TRAFFIC   \n",
       "3  9/27/2020  Arizona/New Mexico   Arizona      N        QCI 8  TRAFFIC   \n",
       "4  9/27/2020  Arizona/New Mexico   Arizona      N        QCI 9  TRAFFIC   \n",
       "\n",
       "          Value  \n",
       "0  3.023060e+12  \n",
       "1  4.344205e+10  \n",
       "2  2.281500e+11  \n",
       "3  1.080600e+12  \n",
       "4  1.670900e+12  "
      ]
     },
     "execution_count": 5,
     "metadata": {},
     "output_type": "execute_result"
    }
   ],
   "source": [
    "df2 = pd.read_csv('sample_output.csv')\n",
    "df2.head()"
   ]
  },
  {
   "cell_type": "code",
   "execution_count": 7,
   "metadata": {
    "editable": true
   },
   "outputs": [],
   "source": [
    "# Output\n",
    "data_dictionary= {\n",
    "    'DATETIME': 'Date of the cell site data',\n",
    "    'MARKET': 'AT&T Market',\n",
    "    'SUBMARKET': 'AT&T Submarket',\n",
    "    'VENDOR': 'Wireless RAN vendor',\n",
    "    'QCI': 'Quality of service class identifier',\n",
    "    'KPI': 'The KPI name for the row',\n",
    "    'Value': 'The value of the KPI specified given'\n",
    "}\n"
   ]
  },
  {
   "cell_type": "markdown",
   "metadata": {
    "editable": true
   },
   "source": [
    "# Step 5: Complete Project Write Up\n",
    "## What's the goal? What queries will you want to run? How would Spark or Airflow be incorporated? Why did you choose the model you chose?\n",
    "The goal of my project is to migrate my crontab jobs at AT&T into Airflow. The output are flat files of the data pulled and a single table of the transformed data pushed into an Oracle database. The flat files are needing to archiving the data for troubleshooting or ad hoc deep dives. The Oracle table allows other teams to access the data using PowerBI dashbaords.\n",
    "\n",
    "\n",
    "## Clearly state the rationale for the choice of tools and technologies for the project.\n",
    "I chose to migrate my crontab jobs into Airflow for my work at AT&T. Airflow will be able to handle the automation, logging, and alarms. Airflow also allows an easy way to modify my data pipeline or add addition data quality checks. Finally the UI is a big plus!\n",
    " \n",
    "The Vertica and Oracle databases were requirements from other teams and was not a choice.\n",
    "\n",
    "## Document the steps of the process.\n",
    "The code pulls AT&T's cell site throughput and number of user data from Vertica Database. Two queries are ran for each of the vendors. Then, it calculates weighted percentile throughput values aggregated by Nation, Market, Submarket, and Vendor. Finally, it pushes new KPI into Oracle database to visual on PowerBI front end. This new KPI will be used to measure customer experience.\n",
    "\n",
    "## Propose how often the data should be updated and why.\n",
    "The pipeline is ran daily during maintenance window (1AM-5AM) since the output is aggregated at a daily level\n",
    "\n",
    "## Post your write-up and final data model in a GitHub repo.\n",
    "Can't publish project due to sensitive proprietary AT&T data\n",
    "\n",
    "## Include a description of how you would approach the problem differently under the following scenarios:\n",
    "### If the data was increased by 100x.\n",
    "Use postgres instead of oracle database for faster write speeds. Store flat files                                          in S3 instead of locally. Transform the data using hadoop cluster to maximize parallel compute.\n",
    "\n",
    "### If the pipelines were run on a daily basis by 7am.\n",
    "This pipeline runs daily currently. It runs during maintenence window from 12am-4am with multiple retries. If all retries fail, then the newst date will not be viewed on the frontend. I would have to troubleshoot, debug, and deploy quality checks to ensure the pipeline does not fail again.\n",
    "\n",
    "### If the database needed to be accessed by 100+ people.\n",
    "I would migrate the Oracle database to AWS RDS to handle the scaling. \n",
    "\n"
   ]
  },
  {
   "cell_type": "code",
   "execution_count": null,
   "metadata": {
    "editable": true
   },
   "outputs": [],
   "source": []
  },
  {
   "cell_type": "code",
   "execution_count": null,
   "metadata": {
    "editable": true
   },
   "outputs": [],
   "source": []
  },
  {
   "cell_type": "code",
   "execution_count": null,
   "metadata": {
    "editable": true
   },
   "outputs": [],
   "source": []
  },
  {
   "cell_type": "code",
   "execution_count": null,
   "metadata": {
    "editable": true
   },
   "outputs": [],
   "source": []
  },
  {
   "cell_type": "code",
   "execution_count": null,
   "metadata": {
    "editable": true
   },
   "outputs": [],
   "source": []
  },
  {
   "cell_type": "code",
   "execution_count": null,
   "metadata": {
    "editable": true
   },
   "outputs": [],
   "source": []
  }
 ],
 "metadata": {
  "kernelspec": {
   "display_name": "Python 3",
   "language": "python",
   "name": "python3"
  },
  "language_info": {
   "codemirror_mode": {
    "name": "ipython",
    "version": 3
   },
   "file_extension": ".py",
   "mimetype": "text/x-python",
   "name": "python",
   "nbconvert_exporter": "python",
   "pygments_lexer": "ipython3",
   "version": "3.6.3"
  }
 },
 "nbformat": 4,
 "nbformat_minor": 4
}
